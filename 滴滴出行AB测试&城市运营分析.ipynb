{
 "cells": [
  {
   "cell_type": "markdown",
   "id": "4ad316ff-39a3-4df3-a633-f2c7deaffdea",
   "metadata": {},
   "source": [
    "# 滴滴出行A/B测试&城市运营分析"
   ]
  },
  {
   "cell_type": "markdown",
   "id": "b7876472-5e98-4337-8c87-b856a09f615f",
   "metadata": {},
   "source": [
    "## 项目背景"
   ]
  },
  {
   "cell_type": "markdown",
   "id": "3d16f005-c0f1-4dd4-86c8-798d412b5e08",
   "metadata": {},
   "source": [
    "### 1 背景"
   ]
  },
  {
   "cell_type": "markdown",
   "id": "c1c3f5ef-33fe-4191-a850-fa9b77e772bd",
   "metadata": {},
   "source": [
    "利用A/B测试的方法，来对滴滴出行的不同方案进行有效性判别，得出有益的见解，并支持下一步的产品迭代以及领导决策。"
   ]
  },
  {
   "cell_type": "markdown",
   "id": "e5709ee5-3d02-489b-828a-63eb8d92f36c",
   "metadata": {},
   "source": [
    "### 2 数据说明"
   ]
  },
  {
   "cell_type": "markdown",
   "id": "0096dcf9-ff8c-413c-ba63-6404257c4767",
   "metadata": {},
   "source": [
    "数据集分为test.xlsx与city.xlsx两部分：\n",
    "\n",
    "其中test.xlsx为滴滴出行某次A/B测试结果数据，有日期、组别、订单请求数、GMV、每单优惠券金额、订单数、取消请求数等字段。\n",
    "\n",
    "city.xlsx为某城市运营数据，有日期、时点、订单请求数、订单数、可服务时长、平均订单时长、顾客预计等待时间、顾客实际等待时间、司机在忙率等字段。\n",
    "\n",
    "test.xlsx数据可以用来判断实验条件对此次A/B测试的结果影响是否显著；city.xlsx数据可以用来探索该城市运营中出现的问题，根据关键结论辅助决策。"
   ]
  },
  {
   "cell_type": "markdown",
   "id": "5aa134ed-b81f-4927-968d-588ec269b761",
   "metadata": {},
   "source": [
    "## 一、A/B测试效果分析"
   ]
  },
  {
   "cell_type": "markdown",
   "id": "98100b94-a50d-4932-aa51-547778a305d5",
   "metadata": {},
   "source": [
    "### 1 数据导入"
   ]
  },
  {
   "cell_type": "code",
   "execution_count": 2,
   "id": "a6753f41-cbe6-45ee-b9cb-6d1494905c37",
   "metadata": {},
   "outputs": [
    {
     "data": {
      "text/html": [
       "<div>\n",
       "<style scoped>\n",
       "    .dataframe tbody tr th:only-of-type {\n",
       "        vertical-align: middle;\n",
       "    }\n",
       "\n",
       "    .dataframe tbody tr th {\n",
       "        vertical-align: top;\n",
       "    }\n",
       "\n",
       "    .dataframe thead th {\n",
       "        text-align: right;\n",
       "    }\n",
       "</style>\n",
       "<table border=\"1\" class=\"dataframe\">\n",
       "  <thead>\n",
       "    <tr style=\"text-align: right;\">\n",
       "      <th></th>\n",
       "      <th>date</th>\n",
       "      <th>group</th>\n",
       "      <th>requests</th>\n",
       "      <th>gmv</th>\n",
       "      <th>coupon per trip</th>\n",
       "      <th>trips</th>\n",
       "      <th>canceled requests</th>\n",
       "    </tr>\n",
       "  </thead>\n",
       "  <tbody>\n",
       "    <tr>\n",
       "      <th>0</th>\n",
       "      <td>2019-01-01</td>\n",
       "      <td>control</td>\n",
       "      <td>30</td>\n",
       "      <td>7486.620</td>\n",
       "      <td>1.069746</td>\n",
       "      <td>24</td>\n",
       "      <td>1</td>\n",
       "    </tr>\n",
       "    <tr>\n",
       "      <th>1</th>\n",
       "      <td>2019-01-02</td>\n",
       "      <td>control</td>\n",
       "      <td>152</td>\n",
       "      <td>38301.575</td>\n",
       "      <td>1.044199</td>\n",
       "      <td>121</td>\n",
       "      <td>8</td>\n",
       "    </tr>\n",
       "    <tr>\n",
       "      <th>2</th>\n",
       "      <td>2019-01-03</td>\n",
       "      <td>control</td>\n",
       "      <td>267</td>\n",
       "      <td>67768.425</td>\n",
       "      <td>1.032276</td>\n",
       "      <td>215</td>\n",
       "      <td>14</td>\n",
       "    </tr>\n",
       "    <tr>\n",
       "      <th>3</th>\n",
       "      <td>2019-01-04</td>\n",
       "      <td>control</td>\n",
       "      <td>369</td>\n",
       "      <td>94992.900</td>\n",
       "      <td>1.028196</td>\n",
       "      <td>298</td>\n",
       "      <td>19</td>\n",
       "    </tr>\n",
       "    <tr>\n",
       "      <th>4</th>\n",
       "      <td>2019-01-05</td>\n",
       "      <td>control</td>\n",
       "      <td>478</td>\n",
       "      <td>123236.875</td>\n",
       "      <td>1.011807</td>\n",
       "      <td>390</td>\n",
       "      <td>24</td>\n",
       "    </tr>\n",
       "  </tbody>\n",
       "</table>\n",
       "</div>"
      ],
      "text/plain": [
       "        date    group  requests         gmv  coupon per trip  trips  \\\n",
       "0 2019-01-01  control        30    7486.620         1.069746     24   \n",
       "1 2019-01-02  control       152   38301.575         1.044199    121   \n",
       "2 2019-01-03  control       267   67768.425         1.032276    215   \n",
       "3 2019-01-04  control       369   94992.900         1.028196    298   \n",
       "4 2019-01-05  control       478  123236.875         1.011807    390   \n",
       "\n",
       "   canceled requests  \n",
       "0                  1  \n",
       "1                  8  \n",
       "2                 14  \n",
       "3                 19  \n",
       "4                 24  "
      ]
     },
     "execution_count": 2,
     "metadata": {},
     "output_type": "execute_result"
    }
   ],
   "source": [
    "#A/B测试结果数据导入\n",
    "\n",
    "import pandas as pd\n",
    "\n",
    "test = pd.read_excel('test.xlsx')\n",
    "test.head()"
   ]
  },
  {
   "cell_type": "markdown",
   "id": "141fa0e8-f756-4ac9-b4e6-07a8ef77a2bf",
   "metadata": {},
   "source": [
    "### 2 计算ROI"
   ]
  },
  {
   "cell_type": "code",
   "execution_count": 3,
   "id": "6c1dead9-b785-4d03-a6c8-14616542c940",
   "metadata": {},
   "outputs": [
    {
     "data": {
      "text/html": [
       "<div>\n",
       "<style scoped>\n",
       "    .dataframe tbody tr th:only-of-type {\n",
       "        vertical-align: middle;\n",
       "    }\n",
       "\n",
       "    .dataframe tbody tr th {\n",
       "        vertical-align: top;\n",
       "    }\n",
       "\n",
       "    .dataframe thead th {\n",
       "        text-align: right;\n",
       "    }\n",
       "</style>\n",
       "<table border=\"1\" class=\"dataframe\">\n",
       "  <thead>\n",
       "    <tr style=\"text-align: right;\">\n",
       "      <th></th>\n",
       "      <th>date</th>\n",
       "      <th>group</th>\n",
       "      <th>requests</th>\n",
       "      <th>gmv</th>\n",
       "      <th>coupon per trip</th>\n",
       "      <th>trips</th>\n",
       "      <th>canceled requests</th>\n",
       "      <th>ROI</th>\n",
       "    </tr>\n",
       "  </thead>\n",
       "  <tbody>\n",
       "    <tr>\n",
       "      <th>0</th>\n",
       "      <td>2019-01-01</td>\n",
       "      <td>control</td>\n",
       "      <td>30</td>\n",
       "      <td>7486.620</td>\n",
       "      <td>1.069746</td>\n",
       "      <td>24</td>\n",
       "      <td>1</td>\n",
       "      <td>291.604269</td>\n",
       "    </tr>\n",
       "    <tr>\n",
       "      <th>1</th>\n",
       "      <td>2019-01-02</td>\n",
       "      <td>control</td>\n",
       "      <td>152</td>\n",
       "      <td>38301.575</td>\n",
       "      <td>1.044199</td>\n",
       "      <td>121</td>\n",
       "      <td>8</td>\n",
       "      <td>303.143166</td>\n",
       "    </tr>\n",
       "    <tr>\n",
       "      <th>2</th>\n",
       "      <td>2019-01-03</td>\n",
       "      <td>control</td>\n",
       "      <td>267</td>\n",
       "      <td>67768.425</td>\n",
       "      <td>1.032276</td>\n",
       "      <td>215</td>\n",
       "      <td>14</td>\n",
       "      <td>305.346684</td>\n",
       "    </tr>\n",
       "    <tr>\n",
       "      <th>3</th>\n",
       "      <td>2019-01-04</td>\n",
       "      <td>control</td>\n",
       "      <td>369</td>\n",
       "      <td>94992.900</td>\n",
       "      <td>1.028196</td>\n",
       "      <td>298</td>\n",
       "      <td>19</td>\n",
       "      <td>310.026761</td>\n",
       "    </tr>\n",
       "    <tr>\n",
       "      <th>4</th>\n",
       "      <td>2019-01-05</td>\n",
       "      <td>control</td>\n",
       "      <td>478</td>\n",
       "      <td>123236.875</td>\n",
       "      <td>1.011807</td>\n",
       "      <td>390</td>\n",
       "      <td>24</td>\n",
       "      <td>312.304607</td>\n",
       "    </tr>\n",
       "  </tbody>\n",
       "</table>\n",
       "</div>"
      ],
      "text/plain": [
       "        date    group  requests         gmv  coupon per trip  trips  \\\n",
       "0 2019-01-01  control        30    7486.620         1.069746     24   \n",
       "1 2019-01-02  control       152   38301.575         1.044199    121   \n",
       "2 2019-01-03  control       267   67768.425         1.032276    215   \n",
       "3 2019-01-04  control       369   94992.900         1.028196    298   \n",
       "4 2019-01-05  control       478  123236.875         1.011807    390   \n",
       "\n",
       "   canceled requests         ROI  \n",
       "0                  1  291.604269  \n",
       "1                  8  303.143166  \n",
       "2                 14  305.346684  \n",
       "3                 19  310.026761  \n",
       "4                 24  312.304607  "
      ]
     },
     "execution_count": 3,
     "metadata": {},
     "output_type": "execute_result"
    }
   ],
   "source": [
    "#计算优惠券投入相对gmv的ROI\n",
    "\n",
    "test['ROI']=test['gmv']/(test['coupon per trip']*test['trips'])\n",
    "test.head()"
   ]
  },
  {
   "cell_type": "markdown",
   "id": "ec5d7bd8-658a-4ee0-9643-e85475a4591d",
   "metadata": {},
   "source": [
    "### 3 requests检验"
   ]
  },
  {
   "cell_type": "markdown",
   "id": "6bd306c8-3f81-4fc1-a432-66cd112b433c",
   "metadata": {},
   "source": [
    "数据共58条，对照组与实验组各29条，样本量小于30。"
   ]
  },
  {
   "cell_type": "markdown",
   "id": "d5edbec9-3c26-42d6-bc4c-9837419509e6",
   "metadata": {},
   "source": [
    "#### 3.1 requests方差检验"
   ]
  },
  {
   "cell_type": "markdown",
   "id": "063004ff-0b75-45ad-a4a2-31580a3b61fa",
   "metadata": {},
   "source": [
    "记两组requests方差分别为c1,c2\n",
    "\n",
    "零假设H0：c1=c2；备选假设H1：c1≠c2\n",
    "\n",
    "显著性水平取0.05"
   ]
  },
  {
   "cell_type": "code",
   "execution_count": 5,
   "id": "e83063e6-eb59-413f-b777-070edd203878",
   "metadata": {},
   "outputs": [
    {
     "data": {
      "text/plain": [
       "LeveneResult(statistic=0.014685075667736849, pvalue=0.903980667108546)"
      ]
     },
     "execution_count": 5,
     "metadata": {},
     "output_type": "execute_result"
    }
   ],
   "source": [
    "#levene检验requests是否齐方差\n",
    "\n",
    "requests_A=test[test.group=='control'].requests\n",
    "requests_B=test[test.group=='experiment'].requests\n",
    "\n",
    "import scipy.stats as st\n",
    "\n",
    "st.levene(requests_A,requests_B)"
   ]
  },
  {
   "cell_type": "markdown",
   "id": "1fe136c6-c713-4893-ab68-173d500b19d8",
   "metadata": {},
   "source": [
    "p值大于0.05，不拒绝原假设，因此可认为两组实验requests齐方差。"
   ]
  },
  {
   "cell_type": "markdown",
   "id": "f345e240-376a-4c26-8c51-1bfbec6a54ad",
   "metadata": {},
   "source": [
    "#### 3.2 requests均值检验"
   ]
  },
  {
   "cell_type": "markdown",
   "id": "939468e0-9796-4c9f-940f-01a53f2735e5",
   "metadata": {},
   "source": [
    "该数据为同一样本实验前后的不同水平，因此选用配对样本t检验。\n",
    "\n",
    "记两组requests均值分别为u1,u2\n",
    "\n",
    "零假设H0：u1=u2；备选假设H1：u1≠u2\n",
    "\n",
    "显著性水平取0.05"
   ]
  },
  {
   "cell_type": "code",
   "execution_count": 7,
   "id": "9bc19bd9-3fe7-41c4-beef-ad0886372090",
   "metadata": {},
   "outputs": [
    {
     "data": {
      "text/plain": [
       "TtestResult(statistic=1.6436140982479508, pvalue=0.11143970454099936, df=28)"
      ]
     },
     "execution_count": 7,
     "metadata": {},
     "output_type": "execute_result"
    }
   ],
   "source": [
    "#配对样本t检验\n",
    "\n",
    "st.ttest_rel(requests_A,requests_B)"
   ]
  },
  {
   "cell_type": "markdown",
   "id": "7d20bfb2-d1b3-42c5-8103-56394e5dba6f",
   "metadata": {},
   "source": [
    "p值大于0.05，不拒绝原假设，因此可认为实验条件对requests影响不显著。"
   ]
  },
  {
   "cell_type": "markdown",
   "id": "d34770e4-e785-4857-82e1-97462ebadf1b",
   "metadata": {},
   "source": [
    "### 4 gmv检验"
   ]
  },
  {
   "cell_type": "markdown",
   "id": "b8dcda11-6e10-43d8-9ece-77676d633c2f",
   "metadata": {},
   "source": [
    "同理对gmv进行方差和均值检验。"
   ]
  },
  {
   "cell_type": "markdown",
   "id": "4b204307-a369-461e-b326-c97f3dd72321",
   "metadata": {},
   "source": [
    "#### 4.1 gmv方差检验"
   ]
  },
  {
   "cell_type": "code",
   "execution_count": 8,
   "id": "ac7b6667-7c89-4b2a-8b45-a337b90e3724",
   "metadata": {},
   "outputs": [
    {
     "data": {
      "text/plain": [
       "LeveneResult(statistic=0.02865341299111212, pvalue=0.8661917430097603)"
      ]
     },
     "execution_count": 8,
     "metadata": {},
     "output_type": "execute_result"
    }
   ],
   "source": [
    "#levene检验gmv是否齐方差\n",
    "\n",
    "gmv_A=test[test.group=='control'].gmv\n",
    "gmv_B=test[test.group=='experiment'].gmv\n",
    "\n",
    "st.levene(gmv_A,gmv_B)"
   ]
  },
  {
   "cell_type": "markdown",
   "id": "1a40dae1-8149-4d47-a788-529b628ec121",
   "metadata": {},
   "source": [
    "p值大于0.05，不拒绝原假设，因此可认为两组实验gmv齐方差。"
   ]
  },
  {
   "cell_type": "markdown",
   "id": "772db8f6-e3f3-42fc-ac99-eeaafb311c94",
   "metadata": {},
   "source": [
    "#### 4.2 gmv均值检验"
   ]
  },
  {
   "cell_type": "code",
   "execution_count": 9,
   "id": "00f771df-0064-4584-83dd-66b4f2ca2979",
   "metadata": {},
   "outputs": [
    {
     "data": {
      "text/plain": [
       "TtestResult(statistic=4.247583846321442, pvalue=0.00021564303983362577, df=28)"
      ]
     },
     "execution_count": 9,
     "metadata": {},
     "output_type": "execute_result"
    }
   ],
   "source": [
    "#配对样本t检验\n",
    "\n",
    "st.ttest_rel(gmv_A,gmv_B)"
   ]
  },
  {
   "cell_type": "markdown",
   "id": "a8c7a3e2-511e-4233-859e-d77810c61927",
   "metadata": {},
   "source": [
    "p值小于0.05，拒绝原假设，因此可认为实验条件对gmv有显著影响。"
   ]
  },
  {
   "cell_type": "markdown",
   "id": "898640dc-0bfc-4041-ac08-50ca52c0d14b",
   "metadata": {},
   "source": [
    "### 5 ROI检验"
   ]
  },
  {
   "cell_type": "markdown",
   "id": "c7a687e9-38a7-4316-91e2-02b8172fa504",
   "metadata": {},
   "source": [
    "同理对ROI进行方差和均值检验。"
   ]
  },
  {
   "cell_type": "markdown",
   "id": "1e66cce8-85b9-4274-be6c-a31ec4afd79e",
   "metadata": {},
   "source": [
    "#### 5.1 ROI方差检验"
   ]
  },
  {
   "cell_type": "code",
   "execution_count": 11,
   "id": "e4adc762-2428-477c-adb0-11fb00474524",
   "metadata": {},
   "outputs": [
    {
     "data": {
      "text/plain": [
       "LeveneResult(statistic=0.10363884745479335, pvalue=0.7487044961896305)"
      ]
     },
     "execution_count": 11,
     "metadata": {},
     "output_type": "execute_result"
    }
   ],
   "source": [
    "#levene检验ROI是否齐方差\n",
    "\n",
    "ROI_A=test[test.group=='control'].ROI\n",
    "ROI_B=test[test.group=='experiment'].ROI\n",
    "\n",
    "st.levene(ROI_A,ROI_B)"
   ]
  },
  {
   "cell_type": "markdown",
   "id": "8f665554-f521-43c3-a1e1-074810c52742",
   "metadata": {},
   "source": [
    "p值大于0.05，不拒绝原假设，因此可认为两组实验ROI齐方差。"
   ]
  },
  {
   "cell_type": "markdown",
   "id": "f9d9fb2a-9539-46ef-b30a-65f39107c164",
   "metadata": {},
   "source": [
    "#### 5.2 ROI均值检验"
   ]
  },
  {
   "cell_type": "code",
   "execution_count": 12,
   "id": "3d7333fe-fb9d-4320-8d2e-4e778dbd7b5a",
   "metadata": {},
   "outputs": [
    {
     "data": {
      "text/plain": [
       "TtestResult(statistic=10.305504459268173, pvalue=4.93261342734923e-11, df=28)"
      ]
     },
     "execution_count": 12,
     "metadata": {},
     "output_type": "execute_result"
    }
   ],
   "source": [
    "#配对样本t检验\n",
    "\n",
    "st.ttest_rel(ROI_A,ROI_B)"
   ]
  },
  {
   "cell_type": "markdown",
   "id": "ab0a58c7-5fdf-43d2-a855-167a298eb55c",
   "metadata": {},
   "source": [
    "p值小于0.05，拒绝原假设，因此可认为实验条件对ROI有显著影响。"
   ]
  },
  {
   "cell_type": "markdown",
   "id": "358ac34b-a2ec-4661-977b-8bedf223a603",
   "metadata": {},
   "source": [
    "## 二、城市运营分析"
   ]
  },
  {
   "cell_type": "markdown",
   "id": "92d1ad9c-f3ef-44d1-a638-093a38e3f9d4",
   "metadata": {},
   "source": [
    "### 1 数据导入"
   ]
  },
  {
   "cell_type": "code",
   "execution_count": 14,
   "id": "f0d39564-939a-41b8-a476-251ed09c166e",
   "metadata": {},
   "outputs": [
    {
     "data": {
      "text/html": [
       "<div>\n",
       "<style scoped>\n",
       "    .dataframe tbody tr th:only-of-type {\n",
       "        vertical-align: middle;\n",
       "    }\n",
       "\n",
       "    .dataframe tbody tr th {\n",
       "        vertical-align: top;\n",
       "    }\n",
       "\n",
       "    .dataframe thead th {\n",
       "        text-align: right;\n",
       "    }\n",
       "</style>\n",
       "<table border=\"1\" class=\"dataframe\">\n",
       "  <thead>\n",
       "    <tr style=\"text-align: right;\">\n",
       "      <th></th>\n",
       "      <th>date</th>\n",
       "      <th>hour</th>\n",
       "      <th>requests</th>\n",
       "      <th>trips</th>\n",
       "      <th>supply hours</th>\n",
       "      <th>average minutes of trips</th>\n",
       "      <th>pETA</th>\n",
       "      <th>aETA</th>\n",
       "      <th>utiliz</th>\n",
       "    </tr>\n",
       "  </thead>\n",
       "  <tbody>\n",
       "    <tr>\n",
       "      <th>0</th>\n",
       "      <td>2013-09-01</td>\n",
       "      <td>11</td>\n",
       "      <td>79</td>\n",
       "      <td>55</td>\n",
       "      <td>42.63</td>\n",
       "      <td>20.43</td>\n",
       "      <td>5.51</td>\n",
       "      <td>7.19</td>\n",
       "      <td>0.479240</td>\n",
       "    </tr>\n",
       "    <tr>\n",
       "      <th>1</th>\n",
       "      <td>2013-09-01</td>\n",
       "      <td>12</td>\n",
       "      <td>73</td>\n",
       "      <td>41</td>\n",
       "      <td>36.43</td>\n",
       "      <td>15.53</td>\n",
       "      <td>5.48</td>\n",
       "      <td>8.48</td>\n",
       "      <td>0.426297</td>\n",
       "    </tr>\n",
       "    <tr>\n",
       "      <th>2</th>\n",
       "      <td>2013-09-01</td>\n",
       "      <td>13</td>\n",
       "      <td>54</td>\n",
       "      <td>50</td>\n",
       "      <td>23.02</td>\n",
       "      <td>17.76</td>\n",
       "      <td>5.07</td>\n",
       "      <td>8.94</td>\n",
       "      <td>0.771503</td>\n",
       "    </tr>\n",
       "    <tr>\n",
       "      <th>3</th>\n",
       "      <td>2013-09-02</td>\n",
       "      <td>11</td>\n",
       "      <td>193</td>\n",
       "      <td>170</td>\n",
       "      <td>64.20</td>\n",
       "      <td>31.47</td>\n",
       "      <td>5.31</td>\n",
       "      <td>6.55</td>\n",
       "      <td>0.490187</td>\n",
       "    </tr>\n",
       "    <tr>\n",
       "      <th>4</th>\n",
       "      <td>2013-09-02</td>\n",
       "      <td>12</td>\n",
       "      <td>258</td>\n",
       "      <td>210</td>\n",
       "      <td>80.28</td>\n",
       "      <td>38.68</td>\n",
       "      <td>4.94</td>\n",
       "      <td>6.08</td>\n",
       "      <td>0.481814</td>\n",
       "    </tr>\n",
       "  </tbody>\n",
       "</table>\n",
       "</div>"
      ],
      "text/plain": [
       "        date  hour  requests  trips  supply hours  average minutes of trips  \\\n",
       "0 2013-09-01    11        79     55         42.63                     20.43   \n",
       "1 2013-09-01    12        73     41         36.43                     15.53   \n",
       "2 2013-09-01    13        54     50         23.02                     17.76   \n",
       "3 2013-09-02    11       193    170         64.20                     31.47   \n",
       "4 2013-09-02    12       258    210         80.28                     38.68   \n",
       "\n",
       "   pETA  aETA    utiliz  \n",
       "0  5.51  7.19  0.479240  \n",
       "1  5.48  8.48  0.426297  \n",
       "2  5.07  8.94  0.771503  \n",
       "3  5.31  6.55  0.490187  \n",
       "4  4.94  6.08  0.481814  "
      ]
     },
     "execution_count": 14,
     "metadata": {},
     "output_type": "execute_result"
    }
   ],
   "source": [
    "#导入该城市运营相关数据\n",
    "\n",
    "city = pd.read_excel('city.xlsx')\n",
    "city.head()"
   ]
  },
  {
   "cell_type": "code",
   "execution_count": 15,
   "id": "0560cce1-a003-4cdd-88e5-68a6676a8d43",
   "metadata": {},
   "outputs": [
    {
     "name": "stdout",
     "output_type": "stream",
     "text": [
      "<class 'pandas.core.frame.DataFrame'>\n",
      "RangeIndex: 90 entries, 0 to 89\n",
      "Data columns (total 9 columns):\n",
      " #   Column                    Non-Null Count  Dtype         \n",
      "---  ------                    --------------  -----         \n",
      " 0   date                      90 non-null     datetime64[ns]\n",
      " 1   hour                      90 non-null     int64         \n",
      " 2   requests                  90 non-null     int64         \n",
      " 3   trips                     90 non-null     int64         \n",
      " 4   supply hours              90 non-null     float64       \n",
      " 5   average minutes of trips  90 non-null     float64       \n",
      " 6   pETA                      90 non-null     float64       \n",
      " 7   aETA                      90 non-null     float64       \n",
      " 8   utiliz                    90 non-null     float64       \n",
      "dtypes: datetime64[ns](1), float64(5), int64(3)\n",
      "memory usage: 6.5 KB\n"
     ]
    }
   ],
   "source": [
    "#查看数据有无缺失值\n",
    "\n",
    "city.info()"
   ]
  },
  {
   "cell_type": "markdown",
   "id": "de91313e-8d6b-408d-a4d4-5c7e696bae70",
   "metadata": {},
   "source": [
    "### 2 数据探索"
   ]
  },
  {
   "cell_type": "markdown",
   "id": "a8273dca-06c2-4d49-8c63-519dc5fea931",
   "metadata": {},
   "source": [
    "#### 2.1 单量最多的时间点"
   ]
  },
  {
   "cell_type": "code",
   "execution_count": 22,
   "id": "9ca96e54-c4f1-4d20-9890-684449bd5432",
   "metadata": {},
   "outputs": [
    {
     "name": "stderr",
     "output_type": "stream",
     "text": [
      "C:\\Users\\kyyk\\AppData\\Local\\Temp\\ipykernel_2720\\356272351.py:1: FutureWarning: The provided callable <built-in function sum> is currently using SeriesGroupBy.sum. In a future version of pandas, the provided callable will be used directly. To keep current behavior pass the string \"sum\" instead.\n",
      "  req_hour = city.groupby(['hour']).agg({'requests':sum})\n"
     ]
    },
    {
     "data": {
      "text/html": [
       "<div>\n",
       "<style scoped>\n",
       "    .dataframe tbody tr th:only-of-type {\n",
       "        vertical-align: middle;\n",
       "    }\n",
       "\n",
       "    .dataframe tbody tr th {\n",
       "        vertical-align: top;\n",
       "    }\n",
       "\n",
       "    .dataframe thead th {\n",
       "        text-align: right;\n",
       "    }\n",
       "</style>\n",
       "<table border=\"1\" class=\"dataframe\">\n",
       "  <thead>\n",
       "    <tr style=\"text-align: right;\">\n",
       "      <th></th>\n",
       "      <th>requests</th>\n",
       "    </tr>\n",
       "    <tr>\n",
       "      <th>hour</th>\n",
       "      <th></th>\n",
       "    </tr>\n",
       "  </thead>\n",
       "  <tbody>\n",
       "    <tr>\n",
       "      <th>11</th>\n",
       "      <td>6008</td>\n",
       "    </tr>\n",
       "    <tr>\n",
       "      <th>12</th>\n",
       "      <td>8530</td>\n",
       "    </tr>\n",
       "    <tr>\n",
       "      <th>13</th>\n",
       "      <td>6559</td>\n",
       "    </tr>\n",
       "  </tbody>\n",
       "</table>\n",
       "</div>"
      ],
      "text/plain": [
       "      requests\n",
       "hour          \n",
       "11        6008\n",
       "12        8530\n",
       "13        6559"
      ]
     },
     "execution_count": 22,
     "metadata": {},
     "output_type": "execute_result"
    }
   ],
   "source": [
    "req_hour = city.groupby(['hour']).agg({'requests':sum})\n",
    "req_hour"
   ]
  },
  {
   "cell_type": "code",
   "execution_count": 24,
   "id": "7be7a0c9-2503-4b10-a841-ef60f74dc1cc",
   "metadata": {},
   "outputs": [
    {
     "data": {
      "image/png": "[encoded data removed]",
      "text/plain": [
       "<Figure size 640x480 with 1 Axes>"
      ]
     },
     "metadata": {},
     "output_type": "display_data"
    }
   ],
   "source": [
    "#绘制各时点订单请求柱状图\n",
    "\n",
    "import matplotlib.pyplot as plt\n",
    "plt.rcParams['font.sans-serif'] = 'SimHei'\n",
    "\n",
    "req_hour.plot(kind='bar')\n",
    "plt.xticks(rotation=0)\n",
    "plt.title('各时点订单请求对比')\n",
    "\n",
    "plt.show()"
   ]
  },
  {
   "cell_type": "markdown",
   "id": "8815444c-34e4-4da9-9e9c-e86be041e361",
   "metadata": {},
   "source": [
    "可见，在11、12、13这三个时间点内，12点用户发起订单的需求是最大的，其次是13点，11点。\n",
    "\n",
    "司机运营平台应考虑加大该时点车辆供应。"
   ]
  },
  {
   "cell_type": "markdown",
   "id": "8a2566f0-7426-4d91-9b95-80a4301b3285",
   "metadata": {},
   "source": [
    "#### 2.2 单量最多的日期"
   ]
  },
  {
   "cell_type": "code",
   "execution_count": 26,
   "id": "d9422ade-0b61-45d0-9bd2-2a081fe81b6e",
   "metadata": {},
   "outputs": [
    {
     "name": "stderr",
     "output_type": "stream",
     "text": [
      "C:\\Users\\kyyk\\AppData\\Local\\Temp\\ipykernel_2720\\444324826.py:1: FutureWarning: The provided callable <built-in function sum> is currently using SeriesGroupBy.sum. In a future version of pandas, the provided callable will be used directly. To keep current behavior pass the string \"sum\" instead.\n",
      "  req_date = city.groupby(['date']).agg({'requests':sum})\n"
     ]
    },
    {
     "data": {
      "text/html": [
       "<div>\n",
       "<style scoped>\n",
       "    .dataframe tbody tr th:only-of-type {\n",
       "        vertical-align: middle;\n",
       "    }\n",
       "\n",
       "    .dataframe tbody tr th {\n",
       "        vertical-align: top;\n",
       "    }\n",
       "\n",
       "    .dataframe thead th {\n",
       "        text-align: right;\n",
       "    }\n",
       "</style>\n",
       "<table border=\"1\" class=\"dataframe\">\n",
       "  <thead>\n",
       "    <tr style=\"text-align: right;\">\n",
       "      <th></th>\n",
       "      <th>requests</th>\n",
       "    </tr>\n",
       "    <tr>\n",
       "      <th>date</th>\n",
       "      <th></th>\n",
       "    </tr>\n",
       "  </thead>\n",
       "  <tbody>\n",
       "    <tr>\n",
       "      <th>2013-09-01</th>\n",
       "      <td>206</td>\n",
       "    </tr>\n",
       "    <tr>\n",
       "      <th>2013-09-02</th>\n",
       "      <td>604</td>\n",
       "    </tr>\n",
       "    <tr>\n",
       "      <th>2013-09-03</th>\n",
       "      <td>238</td>\n",
       "    </tr>\n",
       "    <tr>\n",
       "      <th>2013-09-04</th>\n",
       "      <td>199</td>\n",
       "    </tr>\n",
       "    <tr>\n",
       "      <th>2013-09-05</th>\n",
       "      <td>782</td>\n",
       "    </tr>\n",
       "  </tbody>\n",
       "</table>\n",
       "</div>"
      ],
      "text/plain": [
       "            requests\n",
       "date                \n",
       "2013-09-01       206\n",
       "2013-09-02       604\n",
       "2013-09-03       238\n",
       "2013-09-04       199\n",
       "2013-09-05       782"
      ]
     },
     "execution_count": 26,
     "metadata": {},
     "output_type": "execute_result"
    }
   ],
   "source": [
    "req_date = city.groupby(['date']).agg({'requests':sum})\n",
    "req_date.sort_values('date').head()"
   ]
  },
  {
   "cell_type": "code",
   "execution_count": 27,
   "id": "22c43c33-cd7c-4bbb-b142-7f5442071c67",
   "metadata": {},
   "outputs": [
    {
     "data": {
      "image/png": "[encoded data removed]",
      "text/plain": [
       "<Figure size 640x480 with 1 Axes>"
      ]
     },
     "metadata": {},
     "output_type": "display_data"
    }
   ],
   "source": [
    "#绘制订单请求数随日期变化的折线图\n",
    "\n",
    "req_date.plot(kind='line')\n",
    "plt.title('每日订单请求变化趋势')\n",
    "\n",
    "plt.show()"
   ]
  },
  {
   "cell_type": "markdown",
   "id": "d3740b94-094a-46d7-b23b-bc39decf81c2",
   "metadata": {},
   "source": [
    "单月订单请求数随日期的变化呈周期性变化，我们猜测4个峰值分别对应4个周末，周末用户出行需求较大。\n",
    "\n",
    "经验证发现猜想与数据吻合，因此司机运营平台应考虑加大周末、节假日的车辆供给。"
   ]
  },
  {
   "cell_type": "markdown",
   "id": "299fa259-ac72-47b1-a2c9-c70b7d8ae818",
   "metadata": {},
   "source": [
    "#### 2.3 各时段订单完成率"
   ]
  },
  {
   "cell_type": "code",
   "execution_count": 28,
   "id": "31574051-c03a-4c3f-bd8b-c719e0dcce18",
   "metadata": {},
   "outputs": [
    {
     "name": "stderr",
     "output_type": "stream",
     "text": [
      "C:\\Users\\kyyk\\AppData\\Local\\Temp\\ipykernel_2720\\1853639773.py:1: FutureWarning: The provided callable <built-in function sum> is currently using SeriesGroupBy.sum. In a future version of pandas, the provided callable will be used directly. To keep current behavior pass the string \"sum\" instead.\n",
      "  com_hour = city.groupby(['hour']).agg({'requests':sum,'trips':sum})\n"
     ]
    },
    {
     "data": {
      "text/html": [
       "<div>\n",
       "<style scoped>\n",
       "    .dataframe tbody tr th:only-of-type {\n",
       "        vertical-align: middle;\n",
       "    }\n",
       "\n",
       "    .dataframe tbody tr th {\n",
       "        vertical-align: top;\n",
       "    }\n",
       "\n",
       "    .dataframe thead th {\n",
       "        text-align: right;\n",
       "    }\n",
       "</style>\n",
       "<table border=\"1\" class=\"dataframe\">\n",
       "  <thead>\n",
       "    <tr style=\"text-align: right;\">\n",
       "      <th></th>\n",
       "      <th>requests</th>\n",
       "      <th>trips</th>\n",
       "      <th>rate</th>\n",
       "    </tr>\n",
       "    <tr>\n",
       "      <th>hour</th>\n",
       "      <th></th>\n",
       "      <th></th>\n",
       "      <th></th>\n",
       "    </tr>\n",
       "  </thead>\n",
       "  <tbody>\n",
       "    <tr>\n",
       "      <th>11</th>\n",
       "      <td>6008</td>\n",
       "      <td>4550</td>\n",
       "      <td>0.757324</td>\n",
       "    </tr>\n",
       "    <tr>\n",
       "      <th>12</th>\n",
       "      <td>8530</td>\n",
       "      <td>5850</td>\n",
       "      <td>0.685815</td>\n",
       "    </tr>\n",
       "    <tr>\n",
       "      <th>13</th>\n",
       "      <td>6559</td>\n",
       "      <td>3085</td>\n",
       "      <td>0.470346</td>\n",
       "    </tr>\n",
       "  </tbody>\n",
       "</table>\n",
       "</div>"
      ],
      "text/plain": [
       "      requests  trips      rate\n",
       "hour                           \n",
       "11        6008   4550  0.757324\n",
       "12        8530   5850  0.685815\n",
       "13        6559   3085  0.470346"
      ]
     },
     "execution_count": 28,
     "metadata": {},
     "output_type": "execute_result"
    }
   ],
   "source": [
    "com_hour = city.groupby(['hour']).agg({'requests':sum,'trips':sum})\n",
    "com_hour['rate']=com_hour['trips']/com_hour['requests']\n",
    "com_hour"
   ]
  },
  {
   "cell_type": "markdown",
   "id": "2b25d700-c766-499b-89b1-d4b4ad9458ff",
   "metadata": {},
   "source": [
    "13点订单需求较多，但订单完成率仅47%，说明较多订单没有得到及时相应。\n",
    "\n",
    "客运部应重点关注13点订单相应时长，排查具体原因。"
   ]
  },
  {
   "cell_type": "markdown",
   "id": "a04a4f95-715f-4ecf-a0fd-8c9c122e329c",
   "metadata": {},
   "source": [
    "#### 2.4 单月每日订单完成率"
   ]
  },
  {
   "cell_type": "code",
   "execution_count": 29,
   "id": "b4bd57fc-8619-4b66-a147-7513ad3053da",
   "metadata": {},
   "outputs": [
    {
     "name": "stderr",
     "output_type": "stream",
     "text": [
      "C:\\Users\\kyyk\\AppData\\Local\\Temp\\ipykernel_2720\\1204053157.py:1: FutureWarning: The provided callable <built-in function sum> is currently using SeriesGroupBy.sum. In a future version of pandas, the provided callable will be used directly. To keep current behavior pass the string \"sum\" instead.\n",
      "  com_date = city.groupby(['date']).agg({'requests':sum,'trips':sum})\n"
     ]
    },
    {
     "data": {
      "text/html": [
       "<div>\n",
       "<style scoped>\n",
       "    .dataframe tbody tr th:only-of-type {\n",
       "        vertical-align: middle;\n",
       "    }\n",
       "\n",
       "    .dataframe tbody tr th {\n",
       "        vertical-align: top;\n",
       "    }\n",
       "\n",
       "    .dataframe thead th {\n",
       "        text-align: right;\n",
       "    }\n",
       "</style>\n",
       "<table border=\"1\" class=\"dataframe\">\n",
       "  <thead>\n",
       "    <tr style=\"text-align: right;\">\n",
       "      <th></th>\n",
       "      <th>requests</th>\n",
       "      <th>trips</th>\n",
       "      <th>rate</th>\n",
       "    </tr>\n",
       "    <tr>\n",
       "      <th>date</th>\n",
       "      <th></th>\n",
       "      <th></th>\n",
       "      <th></th>\n",
       "    </tr>\n",
       "  </thead>\n",
       "  <tbody>\n",
       "    <tr>\n",
       "      <th>2013-09-01</th>\n",
       "      <td>206</td>\n",
       "      <td>146</td>\n",
       "      <td>0.708738</td>\n",
       "    </tr>\n",
       "    <tr>\n",
       "      <th>2013-09-02</th>\n",
       "      <td>604</td>\n",
       "      <td>487</td>\n",
       "      <td>0.806291</td>\n",
       "    </tr>\n",
       "    <tr>\n",
       "      <th>2013-09-03</th>\n",
       "      <td>238</td>\n",
       "      <td>83</td>\n",
       "      <td>0.348739</td>\n",
       "    </tr>\n",
       "    <tr>\n",
       "      <th>2013-09-04</th>\n",
       "      <td>199</td>\n",
       "      <td>102</td>\n",
       "      <td>0.512563</td>\n",
       "    </tr>\n",
       "    <tr>\n",
       "      <th>2013-09-05</th>\n",
       "      <td>782</td>\n",
       "      <td>532</td>\n",
       "      <td>0.680307</td>\n",
       "    </tr>\n",
       "  </tbody>\n",
       "</table>\n",
       "</div>"
      ],
      "text/plain": [
       "            requests  trips      rate\n",
       "date                                 \n",
       "2013-09-01       206    146  0.708738\n",
       "2013-09-02       604    487  0.806291\n",
       "2013-09-03       238     83  0.348739\n",
       "2013-09-04       199    102  0.512563\n",
       "2013-09-05       782    532  0.680307"
      ]
     },
     "execution_count": 29,
     "metadata": {},
     "output_type": "execute_result"
    }
   ],
   "source": [
    "com_date = city.groupby(['date']).agg({'requests':sum,'trips':sum})\n",
    "com_date['rate']=com_date['trips']/com_date['requests']\n",
    "com_date.sort_values('date').head()"
   ]
  },
  {
   "cell_type": "code",
   "execution_count": 30,
   "id": "33ab50b2-51c6-4e48-9d1e-9316d95ea196",
   "metadata": {},
   "outputs": [
    {
     "data": {
      "image/png": "[encoded data removed]",
      "text/plain": [
       "<Figure size 640x480 with 1 Axes>"
      ]
     },
     "metadata": {},
     "output_type": "display_data"
    }
   ],
   "source": [
    "#绘制订单完成率随日期变化的折线图\n",
    "\n",
    "com_date.rate.plot(kind='line')\n",
    "plt.title('每日订单完成率变化趋势')\n",
    "\n",
    "plt.show()"
   ]
  },
  {
   "cell_type": "markdown",
   "id": "6245c1f1-e556-424a-ac7b-5a2c5f292cd8",
   "metadata": {},
   "source": [
    "单月每日订单完成率规律不太明显，但几个谷值基本都出现在周末附近，说明客户出行需求的提升可能导致司机数量相对短缺，从而致使响应率的降低。"
   ]
  },
  {
   "cell_type": "markdown",
   "id": "23c75024-5fc7-46a8-9992-bb8e4b3fb037",
   "metadata": {},
   "source": [
    "#### 2.5 顾客等待时间"
   ]
  },
  {
   "cell_type": "code",
   "execution_count": 31,
   "id": "946f9d8e-8690-49f9-a4f7-12e1b827b78d",
   "metadata": {},
   "outputs": [
    {
     "name": "stderr",
     "output_type": "stream",
     "text": [
      "C:\\Users\\kyyk\\AppData\\Local\\Temp\\ipykernel_2720\\1768499718.py:3: FutureWarning: The provided callable <function mean at 0x0000017D5D9B0FE0> is currently using SeriesGroupBy.mean. In a future version of pandas, the provided callable will be used directly. To keep current behavior pass the string \"mean\" instead.\n",
      "  eta_hour = city.groupby(['hour']).agg({'pETA':np.mean,'aETA':np.mean})\n"
     ]
    },
    {
     "data": {
      "text/html": [
       "<div>\n",
       "<style scoped>\n",
       "    .dataframe tbody tr th:only-of-type {\n",
       "        vertical-align: middle;\n",
       "    }\n",
       "\n",
       "    .dataframe tbody tr th {\n",
       "        vertical-align: top;\n",
       "    }\n",
       "\n",
       "    .dataframe thead th {\n",
       "        text-align: right;\n",
       "    }\n",
       "</style>\n",
       "<table border=\"1\" class=\"dataframe\">\n",
       "  <thead>\n",
       "    <tr style=\"text-align: right;\">\n",
       "      <th></th>\n",
       "      <th>pETA</th>\n",
       "      <th>aETA</th>\n",
       "    </tr>\n",
       "    <tr>\n",
       "      <th>hour</th>\n",
       "      <th></th>\n",
       "      <th></th>\n",
       "    </tr>\n",
       "  </thead>\n",
       "  <tbody>\n",
       "    <tr>\n",
       "      <th>11</th>\n",
       "      <td>5.397333</td>\n",
       "      <td>6.611000</td>\n",
       "    </tr>\n",
       "    <tr>\n",
       "      <th>12</th>\n",
       "      <td>5.860000</td>\n",
       "      <td>7.253333</td>\n",
       "    </tr>\n",
       "    <tr>\n",
       "      <th>13</th>\n",
       "      <td>6.018333</td>\n",
       "      <td>7.732667</td>\n",
       "    </tr>\n",
       "  </tbody>\n",
       "</table>\n",
       "</div>"
      ],
      "text/plain": [
       "          pETA      aETA\n",
       "hour                    \n",
       "11    5.397333  6.611000\n",
       "12    5.860000  7.253333\n",
       "13    6.018333  7.732667"
      ]
     },
     "execution_count": 31,
     "metadata": {},
     "output_type": "execute_result"
    }
   ],
   "source": [
    "import numpy as np\n",
    "\n",
    "eta_hour = city.groupby(['hour']).agg({'pETA':np.mean,'aETA':np.mean})\n",
    "eta_hour"
   ]
  },
  {
   "cell_type": "code",
   "execution_count": 32,
   "id": "e28c67d5-d2a7-472b-be68-722ea346133e",
   "metadata": {},
   "outputs": [
    {
     "data": {
      "image/png": "[encoded data removed]",
      "text/plain": [
       "<Figure size 640x480 with 1 Axes>"
      ]
     },
     "metadata": {},
     "output_type": "display_data"
    }
   ],
   "source": [
    "#绘制顾客等待时长复合柱状图\n",
    "\n",
    "eta_hour.plot(kind='bar')\n",
    "plt.title('顾客等待时长')\n",
    "plt.xticks(rotation=0)\n",
    "\n",
    "plt.show()"
   ]
  },
  {
   "cell_type": "markdown",
   "id": "58ebb545-fafc-4852-99e2-de9178fcfa95",
   "metadata": {},
   "source": [
    "以上可见，无论哪个时点，用户实际等待时长均明显大于用户预计等待时长。\n",
    "\n",
    "各时点用户等待时长差异不明显，但13点最高。\n",
    "\n",
    "客运部一方面应提升用户预计等待时长的准确性，另一方面优化平台派单逻辑等。"
   ]
  },
  {
   "cell_type": "markdown",
   "id": "9f6deca2-11cd-45d4-923e-cfa8e23b1c43",
   "metadata": {},
   "source": [
    "#### 2.6 司机在忙率"
   ]
  },
  {
   "cell_type": "code",
   "execution_count": 33,
   "id": "8db831d0-52e0-42c9-902c-567c53efc63e",
   "metadata": {},
   "outputs": [
    {
     "data": {
      "text/html": [
       "<div>\n",
       "<style scoped>\n",
       "    .dataframe tbody tr th:only-of-type {\n",
       "        vertical-align: middle;\n",
       "    }\n",
       "\n",
       "    .dataframe tbody tr th {\n",
       "        vertical-align: top;\n",
       "    }\n",
       "\n",
       "    .dataframe thead th {\n",
       "        text-align: right;\n",
       "    }\n",
       "</style>\n",
       "<table border=\"1\" class=\"dataframe\">\n",
       "  <thead>\n",
       "    <tr style=\"text-align: right;\">\n",
       "      <th></th>\n",
       "      <th>date</th>\n",
       "      <th>hour</th>\n",
       "      <th>requests</th>\n",
       "      <th>trips</th>\n",
       "      <th>supply hours</th>\n",
       "      <th>average minutes of trips</th>\n",
       "      <th>pETA</th>\n",
       "      <th>aETA</th>\n",
       "      <th>utiliz</th>\n",
       "      <th>busy</th>\n",
       "    </tr>\n",
       "  </thead>\n",
       "  <tbody>\n",
       "    <tr>\n",
       "      <th>0</th>\n",
       "      <td>2013-09-01</td>\n",
       "      <td>11</td>\n",
       "      <td>79</td>\n",
       "      <td>55</td>\n",
       "      <td>42.63</td>\n",
       "      <td>20.43</td>\n",
       "      <td>5.51</td>\n",
       "      <td>7.19</td>\n",
       "      <td>0.479240</td>\n",
       "      <td>20.43</td>\n",
       "    </tr>\n",
       "    <tr>\n",
       "      <th>1</th>\n",
       "      <td>2013-09-01</td>\n",
       "      <td>12</td>\n",
       "      <td>73</td>\n",
       "      <td>41</td>\n",
       "      <td>36.43</td>\n",
       "      <td>15.53</td>\n",
       "      <td>5.48</td>\n",
       "      <td>8.48</td>\n",
       "      <td>0.426297</td>\n",
       "      <td>15.53</td>\n",
       "    </tr>\n",
       "    <tr>\n",
       "      <th>2</th>\n",
       "      <td>2013-09-01</td>\n",
       "      <td>13</td>\n",
       "      <td>54</td>\n",
       "      <td>50</td>\n",
       "      <td>23.02</td>\n",
       "      <td>17.76</td>\n",
       "      <td>5.07</td>\n",
       "      <td>8.94</td>\n",
       "      <td>0.771503</td>\n",
       "      <td>17.76</td>\n",
       "    </tr>\n",
       "    <tr>\n",
       "      <th>3</th>\n",
       "      <td>2013-09-02</td>\n",
       "      <td>11</td>\n",
       "      <td>193</td>\n",
       "      <td>170</td>\n",
       "      <td>64.20</td>\n",
       "      <td>31.47</td>\n",
       "      <td>5.31</td>\n",
       "      <td>6.55</td>\n",
       "      <td>0.490187</td>\n",
       "      <td>31.47</td>\n",
       "    </tr>\n",
       "    <tr>\n",
       "      <th>4</th>\n",
       "      <td>2013-09-02</td>\n",
       "      <td>12</td>\n",
       "      <td>258</td>\n",
       "      <td>210</td>\n",
       "      <td>80.28</td>\n",
       "      <td>38.68</td>\n",
       "      <td>4.94</td>\n",
       "      <td>6.08</td>\n",
       "      <td>0.481814</td>\n",
       "      <td>38.68</td>\n",
       "    </tr>\n",
       "  </tbody>\n",
       "</table>\n",
       "</div>"
      ],
      "text/plain": [
       "        date  hour  requests  trips  supply hours  average minutes of trips  \\\n",
       "0 2013-09-01    11        79     55         42.63                     20.43   \n",
       "1 2013-09-01    12        73     41         36.43                     15.53   \n",
       "2 2013-09-01    13        54     50         23.02                     17.76   \n",
       "3 2013-09-02    11       193    170         64.20                     31.47   \n",
       "4 2013-09-02    12       258    210         80.28                     38.68   \n",
       "\n",
       "   pETA  aETA    utiliz   busy  \n",
       "0  5.51  7.19  0.479240  20.43  \n",
       "1  5.48  8.48  0.426297  15.53  \n",
       "2  5.07  8.94  0.771503  17.76  \n",
       "3  5.31  6.55  0.490187  31.47  \n",
       "4  4.94  6.08  0.481814  38.68  "
      ]
     },
     "execution_count": 33,
     "metadata": {},
     "output_type": "execute_result"
    }
   ],
   "source": [
    "city['busy'] = city['supply hours']*city['utiliz']\n",
    "city.head()"
   ]
  },
  {
   "cell_type": "code",
   "execution_count": 34,
   "id": "caf7fa47-fe6d-42db-80be-8672fc59df5e",
   "metadata": {},
   "outputs": [
    {
     "name": "stderr",
     "output_type": "stream",
     "text": [
      "C:\\Users\\kyyk\\AppData\\Local\\Temp\\ipykernel_2720\\1056537297.py:1: FutureWarning: The provided callable <built-in function sum> is currently using SeriesGroupBy.sum. In a future version of pandas, the provided callable will be used directly. To keep current behavior pass the string \"sum\" instead.\n",
      "  busy_hour = city.groupby(['hour']).agg({'supply hours':sum,'busy':sum})\n"
     ]
    },
    {
     "data": {
      "text/html": [
       "<div>\n",
       "<style scoped>\n",
       "    .dataframe tbody tr th:only-of-type {\n",
       "        vertical-align: middle;\n",
       "    }\n",
       "\n",
       "    .dataframe tbody tr th {\n",
       "        vertical-align: top;\n",
       "    }\n",
       "\n",
       "    .dataframe thead th {\n",
       "        text-align: right;\n",
       "    }\n",
       "</style>\n",
       "<table border=\"1\" class=\"dataframe\">\n",
       "  <thead>\n",
       "    <tr style=\"text-align: right;\">\n",
       "      <th></th>\n",
       "      <th>supply hours</th>\n",
       "      <th>busy</th>\n",
       "      <th>utiliz</th>\n",
       "    </tr>\n",
       "    <tr>\n",
       "      <th>hour</th>\n",
       "      <th></th>\n",
       "      <th></th>\n",
       "      <th></th>\n",
       "    </tr>\n",
       "  </thead>\n",
       "  <tbody>\n",
       "    <tr>\n",
       "      <th>11</th>\n",
       "      <td>1660.01</td>\n",
       "      <td>768.51</td>\n",
       "      <td>0.462955</td>\n",
       "    </tr>\n",
       "    <tr>\n",
       "      <th>12</th>\n",
       "      <td>1818.03</td>\n",
       "      <td>1115.28</td>\n",
       "      <td>0.613455</td>\n",
       "    </tr>\n",
       "    <tr>\n",
       "      <th>13</th>\n",
       "      <td>1274.60</td>\n",
       "      <td>730.83</td>\n",
       "      <td>0.573380</td>\n",
       "    </tr>\n",
       "  </tbody>\n",
       "</table>\n",
       "</div>"
      ],
      "text/plain": [
       "      supply hours     busy    utiliz\n",
       "hour                                 \n",
       "11         1660.01   768.51  0.462955\n",
       "12         1818.03  1115.28  0.613455\n",
       "13         1274.60   730.83  0.573380"
      ]
     },
     "execution_count": 34,
     "metadata": {},
     "output_type": "execute_result"
    }
   ],
   "source": [
    "busy_hour = city.groupby(['hour']).agg({'supply hours':sum,'busy':sum})\n",
    "busy_hour['utiliz'] = busy_hour['busy']/busy_hour['supply hours']\n",
    "busy_hour"
   ]
  },
  {
   "cell_type": "markdown",
   "id": "d87ebfd9-6a65-4c5c-b38e-fa0f648a0081",
   "metadata": {},
   "source": [
    "12点司机在忙总时长最长，在忙率也最高，用户订单请求也最多，说明车辆总数偏少。"
   ]
  },
  {
   "cell_type": "markdown",
   "id": "1489b106-2358-4d48-a3f9-6697209253d9",
   "metadata": {},
   "source": [
    "#### 2.7 订单时长"
   ]
  },
  {
   "cell_type": "code",
   "execution_count": 35,
   "id": "06dfeb52-accf-4d7a-98dc-4d203f65f45f",
   "metadata": {},
   "outputs": [
    {
     "name": "stderr",
     "output_type": "stream",
     "text": [
      "C:\\Users\\kyyk\\AppData\\Local\\Temp\\ipykernel_2720\\3541132931.py:1: FutureWarning: The provided callable <function mean at 0x0000017D5D9B0FE0> is currently using SeriesGroupBy.mean. In a future version of pandas, the provided callable will be used directly. To keep current behavior pass the string \"mean\" instead.\n",
      "  trip_min = city.groupby(['hour']).agg({'average minutes of trips':np.mean})\n"
     ]
    },
    {
     "data": {
      "text/html": [
       "<div>\n",
       "<style scoped>\n",
       "    .dataframe tbody tr th:only-of-type {\n",
       "        vertical-align: middle;\n",
       "    }\n",
       "\n",
       "    .dataframe tbody tr th {\n",
       "        vertical-align: top;\n",
       "    }\n",
       "\n",
       "    .dataframe thead th {\n",
       "        text-align: right;\n",
       "    }\n",
       "</style>\n",
       "<table border=\"1\" class=\"dataframe\">\n",
       "  <thead>\n",
       "    <tr style=\"text-align: right;\">\n",
       "      <th></th>\n",
       "      <th>average minutes of trips</th>\n",
       "    </tr>\n",
       "    <tr>\n",
       "      <th>hour</th>\n",
       "      <th></th>\n",
       "    </tr>\n",
       "  </thead>\n",
       "  <tbody>\n",
       "    <tr>\n",
       "      <th>11</th>\n",
       "      <td>25.617</td>\n",
       "    </tr>\n",
       "    <tr>\n",
       "      <th>12</th>\n",
       "      <td>37.176</td>\n",
       "    </tr>\n",
       "    <tr>\n",
       "      <th>13</th>\n",
       "      <td>24.361</td>\n",
       "    </tr>\n",
       "  </tbody>\n",
       "</table>\n",
       "</div>"
      ],
      "text/plain": [
       "      average minutes of trips\n",
       "hour                          \n",
       "11                      25.617\n",
       "12                      37.176\n",
       "13                      24.361"
      ]
     },
     "execution_count": 35,
     "metadata": {},
     "output_type": "execute_result"
    }
   ],
   "source": [
    "trip_min = city.groupby(['hour']).agg({'average minutes of trips':np.mean})\n",
    "trip_min"
   ]
  },
  {
   "cell_type": "markdown",
   "id": "75ace337-d2bb-4466-98a4-a0f2a2d66a4f",
   "metadata": {},
   "source": [
    "12点用户订单需求较多，同时订单时长最长，说明这个时间点是一个非常重要的时间点。"
   ]
  },
  {
   "cell_type": "code",
   "execution_count": 36,
   "id": "b5cb3dfb-ada5-4351-9857-1ace4d86d337",
   "metadata": {},
   "outputs": [
    {
     "name": "stderr",
     "output_type": "stream",
     "text": [
      "C:\\Users\\kyyk\\AppData\\Local\\Temp\\ipykernel_2720\\3708972554.py:1: FutureWarning: The provided callable <function mean at 0x0000017D5D9B0FE0> is currently using SeriesGroupBy.mean. In a future version of pandas, the provided callable will be used directly. To keep current behavior pass the string \"mean\" instead.\n",
      "  supply_hour = city.groupby(['hour']).agg({'supply hours':np.mean})\n"
     ]
    },
    {
     "data": {
      "text/html": [
       "<div>\n",
       "<style scoped>\n",
       "    .dataframe tbody tr th:only-of-type {\n",
       "        vertical-align: middle;\n",
       "    }\n",
       "\n",
       "    .dataframe tbody tr th {\n",
       "        vertical-align: top;\n",
       "    }\n",
       "\n",
       "    .dataframe thead th {\n",
       "        text-align: right;\n",
       "    }\n",
       "</style>\n",
       "<table border=\"1\" class=\"dataframe\">\n",
       "  <thead>\n",
       "    <tr style=\"text-align: right;\">\n",
       "      <th></th>\n",
       "      <th>supply hours</th>\n",
       "    </tr>\n",
       "    <tr>\n",
       "      <th>hour</th>\n",
       "      <th></th>\n",
       "    </tr>\n",
       "  </thead>\n",
       "  <tbody>\n",
       "    <tr>\n",
       "      <th>11</th>\n",
       "      <td>55.333667</td>\n",
       "    </tr>\n",
       "    <tr>\n",
       "      <th>12</th>\n",
       "      <td>60.601000</td>\n",
       "    </tr>\n",
       "    <tr>\n",
       "      <th>13</th>\n",
       "      <td>42.486667</td>\n",
       "    </tr>\n",
       "  </tbody>\n",
       "</table>\n",
       "</div>"
      ],
      "text/plain": [
       "      supply hours\n",
       "hour              \n",
       "11       55.333667\n",
       "12       60.601000\n",
       "13       42.486667"
      ]
     },
     "execution_count": 36,
     "metadata": {},
     "output_type": "execute_result"
    }
   ],
   "source": [
    "supply_hour = city.groupby(['hour']).agg({'supply hours':np.mean})\n",
    "supply_hour"
   ]
  },
  {
   "cell_type": "markdown",
   "id": "fcd8b3c0-fdc2-4ca3-a851-95557a3f2812",
   "metadata": {},
   "source": [
    "13点订单量也较大，但此时点司机服务时长较短。\n",
    "\n",
    "为优化用户出行体验，司机运营平台可联合客运部可考虑此时段尽量分配总服务时长较长的司机来接单（经验较为丰富）。"
   ]
  },
  {
   "cell_type": "markdown",
   "id": "e7c63159-b46d-40a6-b11c-ded2cf5b1a53",
   "metadata": {},
   "source": [
    "### 3 后续思考方向"
   ]
  },
  {
   "cell_type": "markdown",
   "id": "7ff3c8c1-3810-4812-9ee7-f6b91f575b80",
   "metadata": {},
   "source": [
    "提升顾客预计等待时长预测准确度（需要历史数据进行预测）\n",
    "\n",
    "加大车辆投入（分车辆不同等级来看，因此可能需要车辆相关信息表）\n",
    "\n",
    "优化用户体验（需要客诉相关数据）\n",
    "\n",
    "优化平台派单逻辑（需要订单的位置相关数据）\n",
    "\n",
    "个性化需求（需要用户属性、及其他行为数据）"
   ]
  }
 ],
 "metadata": {
  "kernelspec": {
   "display_name": "Python 3 (ipykernel)",
   "language": "python",
   "name": "python3"
  },
  "language_info": {
   "codemirror_mode": {
    "name": "ipython",
    "version": 3
   },
   "file_extension": ".py",
   "mimetype": "text/x-python",
   "name": "python",
   "nbconvert_exporter": "python",
   "pygments_lexer": "ipython3",
   "version": "3.11.7"
  }
 },
 "nbformat": 4,
 "nbformat_minor": 5
}
